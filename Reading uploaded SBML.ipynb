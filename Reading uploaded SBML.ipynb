{
 "cells": [
  {
   "cell_type": "markdown",
   "metadata": {},
   "source": [
    "<font size=\"6\">Reading SBML from uploaded files</font>"
   ]
  },
  {
   "cell_type": "markdown",
   "metadata": {},
   "source": [
    "*This notebook is aimed at a niche bit of Computational Biology, but if you ignore all the bio bits it also explains how to do multiple user file uploads within a Jupyter notebook.*"
   ]
  },
  {
   "cell_type": "markdown",
   "metadata": {},
   "source": [
    "Reading SBML via libSBML within a Jupyter notebook is easy enough from a local file on the host, but much harder for files uploaded by the user. As it took me a whole day to sort out a solution I thought I'd share it with the community.\n",
    "\n",
    "The upload relies upon [peteut](https://github.com/peteut)'s IPython widget at https://github.com/peteut/ipython-file-upload. \n",
    "\n",
    "The widget is easy enough to set up but it took me a while to:\n",
    "\n",
    "1) work out you have to write data to a global to access it from elsewhere in the notebook,\n",
    "\n",
    "2) figure out how to do multiple file uploads (I needed to upload two source files to my notebook),\n",
    "\n",
    "3) realise I needed to convert from 'unicode' to 'str' and use reader.readSBMLFromString() to create the document object."
   ]
  },
  {
   "cell_type": "markdown",
   "metadata": {},
   "source": [
    "# Packages"
   ]
  },
  {
   "cell_type": "code",
   "execution_count": 1,
   "metadata": {},
   "outputs": [
    {
     "name": "stdout",
     "output_type": "stream",
     "text": [
      "Requirement already satisfied: python-libsbml in /Users/paul/miniconda2/lib/python2.7/site-packages\n",
      "Requirement already satisfied: ipywidgets in /Users/paul/miniconda2/lib/python2.7/site-packages\n",
      "Requirement already satisfied: widgetsnbextension~=3.0.0 in /Users/paul/miniconda2/lib/python2.7/site-packages (from ipywidgets)\n",
      "Requirement already satisfied: ipython<6.0.0,>=4.0.0; python_version < \"3.3\" in /Users/paul/miniconda2/lib/python2.7/site-packages (from ipywidgets)\n",
      "Requirement already satisfied: traitlets>=4.3.1 in /Users/paul/miniconda2/lib/python2.7/site-packages (from ipywidgets)\n",
      "Requirement already satisfied: nbformat>=4.2.0 in /Users/paul/miniconda2/lib/python2.7/site-packages (from ipywidgets)\n",
      "Requirement already satisfied: ipykernel>=4.5.1 in /Users/paul/miniconda2/lib/python2.7/site-packages (from ipywidgets)\n",
      "Requirement already satisfied: notebook>=4.4.1 in /Users/paul/miniconda2/lib/python2.7/site-packages (from widgetsnbextension~=3.0.0->ipywidgets)\n",
      "Requirement already satisfied: setuptools>=18.5 in /Users/paul/miniconda2/lib/python2.7/site-packages (from ipython<6.0.0,>=4.0.0; python_version < \"3.3\"->ipywidgets)\n",
      "Requirement already satisfied: backports.shutil-get-terminal-size; python_version == \"2.7\" in /Users/paul/miniconda2/lib/python2.7/site-packages (from ipython<6.0.0,>=4.0.0; python_version < \"3.3\"->ipywidgets)\n",
      "Requirement already satisfied: pickleshare in /Users/paul/miniconda2/lib/python2.7/site-packages (from ipython<6.0.0,>=4.0.0; python_version < \"3.3\"->ipywidgets)\n",
      "Requirement already satisfied: simplegeneric>0.8 in /Users/paul/miniconda2/lib/python2.7/site-packages (from ipython<6.0.0,>=4.0.0; python_version < \"3.3\"->ipywidgets)\n",
      "Requirement already satisfied: decorator in /Users/paul/miniconda2/lib/python2.7/site-packages (from ipython<6.0.0,>=4.0.0; python_version < \"3.3\"->ipywidgets)\n",
      "Requirement already satisfied: prompt-toolkit<2.0.0,>=1.0.4 in /Users/paul/miniconda2/lib/python2.7/site-packages (from ipython<6.0.0,>=4.0.0; python_version < \"3.3\"->ipywidgets)\n",
      "Requirement already satisfied: pexpect; sys_platform != \"win32\" in /Users/paul/miniconda2/lib/python2.7/site-packages (from ipython<6.0.0,>=4.0.0; python_version < \"3.3\"->ipywidgets)\n",
      "Requirement already satisfied: pathlib2; python_version == \"2.7\" or python_version == \"3.3\" in /Users/paul/miniconda2/lib/python2.7/site-packages (from ipython<6.0.0,>=4.0.0; python_version < \"3.3\"->ipywidgets)\n",
      "Requirement already satisfied: pygments in /Users/paul/miniconda2/lib/python2.7/site-packages (from ipython<6.0.0,>=4.0.0; python_version < \"3.3\"->ipywidgets)\n",
      "Requirement already satisfied: appnope; sys_platform == \"darwin\" in /Users/paul/miniconda2/lib/python2.7/site-packages (from ipython<6.0.0,>=4.0.0; python_version < \"3.3\"->ipywidgets)\n",
      "Requirement already satisfied: ipython-genutils in /Users/paul/miniconda2/lib/python2.7/site-packages (from traitlets>=4.3.1->ipywidgets)\n",
      "Requirement already satisfied: enum34; python_version == \"2.7\" in /Users/paul/miniconda2/lib/python2.7/site-packages (from traitlets>=4.3.1->ipywidgets)\n",
      "Requirement already satisfied: six in /Users/paul/miniconda2/lib/python2.7/site-packages (from traitlets>=4.3.1->ipywidgets)\n",
      "Requirement already satisfied: jupyter-core in /Users/paul/miniconda2/lib/python2.7/site-packages (from nbformat>=4.2.0->ipywidgets)\n",
      "Requirement already satisfied: jsonschema!=2.5.0,>=2.4 in /Users/paul/miniconda2/lib/python2.7/site-packages (from nbformat>=4.2.0->ipywidgets)\n",
      "Requirement already satisfied: tornado>=4.0 in /Users/paul/miniconda2/lib/python2.7/site-packages (from ipykernel>=4.5.1->ipywidgets)\n",
      "Requirement already satisfied: jupyter-client in /Users/paul/miniconda2/lib/python2.7/site-packages (from ipykernel>=4.5.1->ipywidgets)\n",
      "Requirement already satisfied: jinja2 in /Users/paul/miniconda2/lib/python2.7/site-packages (from notebook>=4.4.1->widgetsnbextension~=3.0.0->ipywidgets)\n",
      "Requirement already satisfied: nbconvert in /Users/paul/miniconda2/lib/python2.7/site-packages (from notebook>=4.4.1->widgetsnbextension~=3.0.0->ipywidgets)\n",
      "Requirement already satisfied: terminado>=0.3.3; sys_platform != \"win32\" in /Users/paul/miniconda2/lib/python2.7/site-packages (from notebook>=4.4.1->widgetsnbextension~=3.0.0->ipywidgets)\n",
      "Requirement already satisfied: wcwidth in /Users/paul/miniconda2/lib/python2.7/site-packages (from prompt-toolkit<2.0.0,>=1.0.4->ipython<6.0.0,>=4.0.0; python_version < \"3.3\"->ipywidgets)\n",
      "Requirement already satisfied: scandir in /Users/paul/miniconda2/lib/python2.7/site-packages (from pathlib2; python_version == \"2.7\" or python_version == \"3.3\"->ipython<6.0.0,>=4.0.0; python_version < \"3.3\"->ipywidgets)\n",
      "Requirement already satisfied: functools32; python_version == \"2.7\" in /Users/paul/miniconda2/lib/python2.7/site-packages (from jsonschema!=2.5.0,>=2.4->nbformat>=4.2.0->ipywidgets)\n",
      "Requirement already satisfied: singledispatch in /Users/paul/miniconda2/lib/python2.7/site-packages (from tornado>=4.0->ipykernel>=4.5.1->ipywidgets)\n",
      "Requirement already satisfied: certifi in /Users/paul/miniconda2/lib/python2.7/site-packages (from tornado>=4.0->ipykernel>=4.5.1->ipywidgets)\n",
      "Requirement already satisfied: backports_abc>=0.4 in /Users/paul/miniconda2/lib/python2.7/site-packages (from tornado>=4.0->ipykernel>=4.5.1->ipywidgets)\n",
      "Requirement already satisfied: python-dateutil>=2.1 in /Users/paul/miniconda2/lib/python2.7/site-packages (from jupyter-client->ipykernel>=4.5.1->ipywidgets)\n",
      "Requirement already satisfied: pyzmq>=13 in /Users/paul/miniconda2/lib/python2.7/site-packages (from jupyter-client->ipykernel>=4.5.1->ipywidgets)\n",
      "Requirement already satisfied: MarkupSafe>=0.23 in /Users/paul/miniconda2/lib/python2.7/site-packages (from jinja2->notebook>=4.4.1->widgetsnbextension~=3.0.0->ipywidgets)\n",
      "Requirement already satisfied: entrypoints>=0.2.2 in /Users/paul/miniconda2/lib/python2.7/site-packages (from nbconvert->notebook>=4.4.1->widgetsnbextension~=3.0.0->ipywidgets)\n",
      "Requirement already satisfied: pandocfilters>=1.4.1 in /Users/paul/miniconda2/lib/python2.7/site-packages (from nbconvert->notebook>=4.4.1->widgetsnbextension~=3.0.0->ipywidgets)\n",
      "Requirement already satisfied: bleach in /Users/paul/miniconda2/lib/python2.7/site-packages (from nbconvert->notebook>=4.4.1->widgetsnbextension~=3.0.0->ipywidgets)\n",
      "Requirement already satisfied: mistune>=0.7.4 in /Users/paul/miniconda2/lib/python2.7/site-packages (from nbconvert->notebook>=4.4.1->widgetsnbextension~=3.0.0->ipywidgets)\n",
      "Requirement already satisfied: testpath in /Users/paul/miniconda2/lib/python2.7/site-packages (from nbconvert->notebook>=4.4.1->widgetsnbextension~=3.0.0->ipywidgets)\n",
      "Requirement already satisfied: configparser>=3.5; python_version == \"2.7\" in /Users/paul/miniconda2/lib/python2.7/site-packages (from entrypoints>=0.2.2->nbconvert->notebook>=4.4.1->widgetsnbextension~=3.0.0->ipywidgets)\n",
      "Requirement already satisfied: html5lib>=0.99999999 in /Users/paul/miniconda2/lib/python2.7/site-packages (from bleach->nbconvert->notebook>=4.4.1->widgetsnbextension~=3.0.0->ipywidgets)\n",
      "Requirement already satisfied: webencodings in /Users/paul/miniconda2/lib/python2.7/site-packages (from html5lib>=0.99999999->bleach->nbconvert->notebook>=4.4.1->widgetsnbextension~=3.0.0->ipywidgets)\n",
      "Collecting fileupload\n",
      "  Using cached fileupload-0.1.5-py2.py3-none-any.whl\n",
      "Requirement already satisfied: notebook>=4.2 in /Users/paul/miniconda2/lib/python2.7/site-packages (from fileupload)\n",
      "Requirement already satisfied: traitlets>=4.2 in /Users/paul/miniconda2/lib/python2.7/site-packages (from fileupload)\n",
      "Requirement already satisfied: ipywidgets>=5.1 in /Users/paul/miniconda2/lib/python2.7/site-packages (from fileupload)\n",
      "Requirement already satisfied: tornado>=4 in /Users/paul/miniconda2/lib/python2.7/site-packages (from notebook>=4.2->fileupload)\n",
      "Requirement already satisfied: jinja2 in /Users/paul/miniconda2/lib/python2.7/site-packages (from notebook>=4.2->fileupload)\n",
      "Requirement already satisfied: nbconvert in /Users/paul/miniconda2/lib/python2.7/site-packages (from notebook>=4.2->fileupload)\n",
      "Requirement already satisfied: jupyter-client in /Users/paul/miniconda2/lib/python2.7/site-packages (from notebook>=4.2->fileupload)\n",
      "Requirement already satisfied: ipython-genutils in /Users/paul/miniconda2/lib/python2.7/site-packages (from notebook>=4.2->fileupload)\n",
      "Requirement already satisfied: terminado>=0.3.3; sys_platform != \"win32\" in /Users/paul/miniconda2/lib/python2.7/site-packages (from notebook>=4.2->fileupload)\n",
      "Requirement already satisfied: ipykernel in /Users/paul/miniconda2/lib/python2.7/site-packages (from notebook>=4.2->fileupload)\n",
      "Requirement already satisfied: jupyter-core in /Users/paul/miniconda2/lib/python2.7/site-packages (from notebook>=4.2->fileupload)\n",
      "Requirement already satisfied: nbformat in /Users/paul/miniconda2/lib/python2.7/site-packages (from notebook>=4.2->fileupload)\n",
      "Requirement already satisfied: decorator in /Users/paul/miniconda2/lib/python2.7/site-packages (from traitlets>=4.2->fileupload)\n",
      "Requirement already satisfied: enum34; python_version == \"2.7\" in /Users/paul/miniconda2/lib/python2.7/site-packages (from traitlets>=4.2->fileupload)\n",
      "Requirement already satisfied: six in /Users/paul/miniconda2/lib/python2.7/site-packages (from traitlets>=4.2->fileupload)\n",
      "Requirement already satisfied: widgetsnbextension~=3.0.0 in /Users/paul/miniconda2/lib/python2.7/site-packages (from ipywidgets>=5.1->fileupload)\n"
     ]
    },
    {
     "name": "stdout",
     "output_type": "stream",
     "text": [
      "Requirement already satisfied: ipython<6.0.0,>=4.0.0; python_version < \"3.3\" in /Users/paul/miniconda2/lib/python2.7/site-packages (from ipywidgets>=5.1->fileupload)\n",
      "Requirement already satisfied: singledispatch in /Users/paul/miniconda2/lib/python2.7/site-packages (from tornado>=4->notebook>=4.2->fileupload)\n",
      "Requirement already satisfied: certifi in /Users/paul/miniconda2/lib/python2.7/site-packages (from tornado>=4->notebook>=4.2->fileupload)\n",
      "Requirement already satisfied: backports_abc>=0.4 in /Users/paul/miniconda2/lib/python2.7/site-packages (from tornado>=4->notebook>=4.2->fileupload)\n",
      "Requirement already satisfied: MarkupSafe>=0.23 in /Users/paul/miniconda2/lib/python2.7/site-packages (from jinja2->notebook>=4.2->fileupload)\n",
      "Requirement already satisfied: entrypoints>=0.2.2 in /Users/paul/miniconda2/lib/python2.7/site-packages (from nbconvert->notebook>=4.2->fileupload)\n",
      "Requirement already satisfied: pandocfilters>=1.4.1 in /Users/paul/miniconda2/lib/python2.7/site-packages (from nbconvert->notebook>=4.2->fileupload)\n",
      "Requirement already satisfied: pygments in /Users/paul/miniconda2/lib/python2.7/site-packages (from nbconvert->notebook>=4.2->fileupload)\n",
      "Requirement already satisfied: bleach in /Users/paul/miniconda2/lib/python2.7/site-packages (from nbconvert->notebook>=4.2->fileupload)\n",
      "Requirement already satisfied: mistune>=0.7.4 in /Users/paul/miniconda2/lib/python2.7/site-packages (from nbconvert->notebook>=4.2->fileupload)\n",
      "Requirement already satisfied: testpath in /Users/paul/miniconda2/lib/python2.7/site-packages (from nbconvert->notebook>=4.2->fileupload)\n",
      "Requirement already satisfied: python-dateutil>=2.1 in /Users/paul/miniconda2/lib/python2.7/site-packages (from jupyter-client->notebook>=4.2->fileupload)\n",
      "Requirement already satisfied: pyzmq>=13 in /Users/paul/miniconda2/lib/python2.7/site-packages (from jupyter-client->notebook>=4.2->fileupload)\n",
      "Requirement already satisfied: jsonschema!=2.5.0,>=2.4 in /Users/paul/miniconda2/lib/python2.7/site-packages (from nbformat->notebook>=4.2->fileupload)\n",
      "Requirement already satisfied: setuptools>=18.5 in /Users/paul/miniconda2/lib/python2.7/site-packages (from ipython<6.0.0,>=4.0.0; python_version < \"3.3\"->ipywidgets>=5.1->fileupload)\n",
      "Requirement already satisfied: backports.shutil-get-terminal-size; python_version == \"2.7\" in /Users/paul/miniconda2/lib/python2.7/site-packages (from ipython<6.0.0,>=4.0.0; python_version < \"3.3\"->ipywidgets>=5.1->fileupload)\n",
      "Requirement already satisfied: pickleshare in /Users/paul/miniconda2/lib/python2.7/site-packages (from ipython<6.0.0,>=4.0.0; python_version < \"3.3\"->ipywidgets>=5.1->fileupload)\n",
      "Requirement already satisfied: simplegeneric>0.8 in /Users/paul/miniconda2/lib/python2.7/site-packages (from ipython<6.0.0,>=4.0.0; python_version < \"3.3\"->ipywidgets>=5.1->fileupload)\n",
      "Requirement already satisfied: prompt-toolkit<2.0.0,>=1.0.4 in /Users/paul/miniconda2/lib/python2.7/site-packages (from ipython<6.0.0,>=4.0.0; python_version < \"3.3\"->ipywidgets>=5.1->fileupload)\n",
      "Requirement already satisfied: pexpect; sys_platform != \"win32\" in /Users/paul/miniconda2/lib/python2.7/site-packages (from ipython<6.0.0,>=4.0.0; python_version < \"3.3\"->ipywidgets>=5.1->fileupload)\n",
      "Requirement already satisfied: pathlib2; python_version == \"2.7\" or python_version == \"3.3\" in /Users/paul/miniconda2/lib/python2.7/site-packages (from ipython<6.0.0,>=4.0.0; python_version < \"3.3\"->ipywidgets>=5.1->fileupload)\n",
      "Requirement already satisfied: appnope; sys_platform == \"darwin\" in /Users/paul/miniconda2/lib/python2.7/site-packages (from ipython<6.0.0,>=4.0.0; python_version < \"3.3\"->ipywidgets>=5.1->fileupload)\n",
      "Requirement already satisfied: configparser>=3.5; python_version == \"2.7\" in /Users/paul/miniconda2/lib/python2.7/site-packages (from entrypoints>=0.2.2->nbconvert->notebook>=4.2->fileupload)\n",
      "Requirement already satisfied: html5lib>=0.99999999 in /Users/paul/miniconda2/lib/python2.7/site-packages (from bleach->nbconvert->notebook>=4.2->fileupload)\n",
      "Requirement already satisfied: functools32; python_version == \"2.7\" in /Users/paul/miniconda2/lib/python2.7/site-packages (from jsonschema!=2.5.0,>=2.4->nbformat->notebook>=4.2->fileupload)\n",
      "Requirement already satisfied: wcwidth in /Users/paul/miniconda2/lib/python2.7/site-packages (from prompt-toolkit<2.0.0,>=1.0.4->ipython<6.0.0,>=4.0.0; python_version < \"3.3\"->ipywidgets>=5.1->fileupload)\n",
      "Requirement already satisfied: scandir in /Users/paul/miniconda2/lib/python2.7/site-packages (from pathlib2; python_version == \"2.7\" or python_version == \"3.3\"->ipython<6.0.0,>=4.0.0; python_version < \"3.3\"->ipywidgets>=5.1->fileupload)\n",
      "Requirement already satisfied: webencodings in /Users/paul/miniconda2/lib/python2.7/site-packages (from html5lib>=0.99999999->bleach->nbconvert->notebook>=4.2->fileupload)\n",
      "Installing collected packages: fileupload\n",
      "Successfully installed fileupload-0.1.5\n",
      "Collecting uuid\n",
      "  Using cached uuid-1.30.tar.gz\n",
      "Building wheels for collected packages: uuid\n",
      "\u001b[33m  Building wheel for uuid failed: [Errno 13] Permission denied: '/Users/paul/Library/Caches/pip/wheels/3e'\u001b[0m\n",
      "Failed to build uuid\n",
      "Installing collected packages: uuid\n",
      "  Running setup.py install for uuid ... \u001b[?25ldone\n",
      "\u001b[?25hSuccessfully installed uuid-1.30\n",
      "Installing /Users/paul/miniconda2/lib/python2.7/site-packages/fileupload/static -> fileupload\n",
      "Out of date: /usr/local/share/jupyter/nbextensions/fileupload/extension.js\n",
      "Copying: /Users/paul/miniconda2/lib/python2.7/site-packages/fileupload/static/extension.js -> /usr/local/share/jupyter/nbextensions/fileupload/extension.js\n",
      "Out of date: /usr/local/share/jupyter/nbextensions/fileupload/widget.js\n",
      "Copying: /Users/paul/miniconda2/lib/python2.7/site-packages/fileupload/static/widget.js -> /usr/local/share/jupyter/nbextensions/fileupload/widget.js\n",
      "Out of date: /usr/local/share/jupyter/nbextensions/fileupload/fileupload/widget.js\n",
      "Copying: /Users/paul/miniconda2/lib/python2.7/site-packages/fileupload/static/fileupload/widget.js -> /usr/local/share/jupyter/nbextensions/fileupload/fileupload/widget.js\n",
      "- Validating: \u001b[32mOK\u001b[0m\n",
      "\n",
      "    To initialize this nbextension in the browser every time the notebook (or other app) loads:\n",
      "    \n",
      "          jupyter nbextension enable fileupload --py\n",
      "    \n",
      "Enabling notebook extension fileupload/extension...\n",
      "      - Validating: \u001b[32mOK\u001b[0m\n"
     ]
    }
   ],
   "source": [
    "!pip install python-libsbml\n",
    "!pip install ipywidgets\n",
    "!pip install fileupload\n",
    "!pip install uuid\n",
    "!jupyter nbextension install --py fileupload\n",
    "!jupyter nbextension enable --py fileupload"
   ]
  },
  {
   "cell_type": "code",
   "execution_count": 2,
   "metadata": {},
   "outputs": [],
   "source": [
    "from libsbml import *\n",
    "from ipywidgets import widgets\n",
    "import io, uuid\n",
    "from IPython.display import display\n",
    "import fileupload"
   ]
  },
  {
   "cell_type": "markdown",
   "metadata": {},
   "source": [
    "# Load multiple source files"
   ]
  },
  {
   "cell_type": "code",
   "execution_count": 35,
   "metadata": {},
   "outputs": [
    {
     "name": "stdout",
     "output_type": "stream",
     "text": [
      "SBML file 1\n"
     ]
    },
    {
     "data": {
      "application/vnd.jupyter.widget-view+json": {
       "model_id": "dc88667a27154708bbaf8c94bd2100b2",
       "version_major": 2,
       "version_minor": 0
      },
      "text/html": [
       "<p>Failed to display Jupyter Widget of type <code>FileUploadWidget</code>.</p>\n",
       "<p>\n",
       "  If you're reading this message in Jupyter Notebook or JupyterLab, it may mean\n",
       "  that the widgets JavaScript is still loading. If this message persists, it\n",
       "  likely means that the widgets JavaScript library is either not installed or\n",
       "  not enabled. See the <a href=\"https://ipywidgets.readthedocs.io/en/stable/user_install.html\">Jupyter\n",
       "  Widgets Documentation</a> for setup instructions.\n",
       "</p>\n",
       "<p>\n",
       "  If you're reading this message in another notebook frontend (for example, a static\n",
       "  rendering on GitHub or <a href=\"https://nbviewer.jupyter.org/\">NBViewer</a>),\n",
       "  it may mean that your frontend doesn't currently support widgets.\n",
       "</p>\n"
      ],
      "text/plain": [
       "FileUploadWidget(label=u'Browse', _dom_classes=('widget_item', 'btn-group'))"
      ]
     },
     "metadata": {},
     "output_type": "display_data"
    },
    {
     "name": "stdout",
     "output_type": "stream",
     "text": [
      "SBML file 2\n"
     ]
    },
    {
     "data": {
      "application/vnd.jupyter.widget-view+json": {
       "model_id": "1fb3dad0b97444e2a25bd9bd8e212df5",
       "version_major": 2,
       "version_minor": 0
      },
      "text/html": [
       "<p>Failed to display Jupyter Widget of type <code>FileUploadWidget</code>.</p>\n",
       "<p>\n",
       "  If you're reading this message in Jupyter Notebook or JupyterLab, it may mean\n",
       "  that the widgets JavaScript is still loading. If this message persists, it\n",
       "  likely means that the widgets JavaScript library is either not installed or\n",
       "  not enabled. See the <a href=\"https://ipywidgets.readthedocs.io/en/stable/user_install.html\">Jupyter\n",
       "  Widgets Documentation</a> for setup instructions.\n",
       "</p>\n",
       "<p>\n",
       "  If you're reading this message in another notebook frontend (for example, a static\n",
       "  rendering on GitHub or <a href=\"https://nbviewer.jupyter.org/\">NBViewer</a>),\n",
       "  it may mean that your frontend doesn't currently support widgets.\n",
       "</p>\n"
      ],
      "text/plain": [
       "FileUploadWidget(label=u'Browse', _dom_classes=('widget_item', 'btn-group'))"
      ]
     },
     "metadata": {},
     "output_type": "display_data"
    },
    {
     "name": "stdout",
     "output_type": "stream",
     "text": [
      "Uploaded `Celegans_ecoli_inchi.xml` (4163.00 kB)\n",
      "Uploaded `iCEL1273_inchi.xml` (3713.00 kB)\n"
     ]
    }
   ],
   "source": [
    "uploader = fileupload.FileUploadWidget()\n",
    "\n",
    "def _cb(change):\n",
    "    file_uuid = uuid.uuid4()\n",
    "    decoded = io.StringIO(change['owner'].data.decode('utf-8'))\n",
    "    filename = change['owner'].filename\n",
    "    sbml = decoded.getvalue()\n",
    "    sbml_strings[file_uuid] = sbml\n",
    "    filenames[file_uuid] = filename\n",
    "    print('Uploaded `{}` ({:.2f} kB)'.format(filename, len(decoded.read()) / 2 **10))\n",
    "\n",
    "def _upload():\n",
    "    _upload_widget = fileupload.FileUploadWidget()\n",
    "    _upload_widget.observe(_cb, names='data')\n",
    "    display(_upload_widget)\n",
    "\n",
    "#The only way out of _cb is via a global, apparently.\n",
    "#These globals hold the file contents and names\n",
    "global sbml_strings\n",
    "global filenames\n",
    "sbml_strings = {}\n",
    "filenames = {}\n",
    "    \n",
    "#Just change the number of instances here to upload different numbers of files\n",
    "#This creates the upload buttons\n",
    "numSources = 2\n",
    "for num in range(0,numSources):\n",
    "    print 'SBML file', num+1\n",
    "    _upload()"
   ]
  },
  {
   "cell_type": "markdown",
   "metadata": {},
   "source": [
    "## Extract sources from global and compile list of libSBML documents"
   ]
  },
  {
   "cell_type": "code",
   "execution_count": 36,
   "metadata": {
    "code_folding": []
   },
   "outputs": [
    {
     "name": "stdout",
     "output_type": "stream",
     "text": [
      "Source 1 is iCEL1273_inchi.xml ( bbc000a5-3ef4-4a67-9a12-0c2f21063678 )\n",
      "Created document 1\n",
      "Source 2 is Celegans_ecoli_inchi.xml ( fc430f97-846c-42b2-bbba-7bcd1feb215e )\n",
      "Created document 2\n"
     ]
    }
   ],
   "source": [
    "#Hold a list of SBML documents\n",
    "listOfDocuments = []\n",
    "#Keep track off source filenames\n",
    "listOfFilenames = []\n",
    "i = 1\n",
    "for file_uuid in sbml_strings:\n",
    "    print 'Source', i, 'is', filenames[file_uuid], '(', file_uuid, ')'\n",
    "    sbml = str(sbml_strings[file_uuid])\n",
    "    try:\n",
    "        reader = SBMLReader()\n",
    "        document = reader.readSBMLFromString(sbml)\n",
    "        print 'Created document', i\n",
    "        listOfDocuments.append(document)\n",
    "        listOfFilenames.append(filenames[file_uuid])\n",
    "    except:\n",
    "        print 'Error reading model'\n",
    "    i += 1"
   ]
  },
  {
   "cell_type": "markdown",
   "metadata": {},
   "source": [
    "# Show some model overview stats"
   ]
  },
  {
   "cell_type": "code",
   "execution_count": 34,
   "metadata": {},
   "outputs": [
    {
     "name": "stdout",
     "output_type": "stream",
     "text": [
      "Document 1\n",
      "Number of species: 2357\n",
      "Number of reactions: 1921\n",
      "Number of compartments: 5\n",
      "\n",
      "\n",
      "Document 2\n",
      "Number of species: 1718\n",
      "Number of reactions: 1985\n",
      "Number of compartments: 3\n",
      "\n",
      "\n"
     ]
    }
   ],
   "source": [
    "j = 1\n",
    "for doc in listOfDocuments:\n",
    "    model = doc.getModel()\n",
    "    print 'Document', j\n",
    "    print 'Number of species:', model.getNumSpecies()\n",
    "    print 'Number of reactions:', model.getNumReactions()    \n",
    "    print 'Number of compartments:', model.getNumCompartments()\n",
    "    print '\\n'\n",
    "    j += 1"
   ]
  },
  {
   "cell_type": "code",
   "execution_count": null,
   "metadata": {},
   "outputs": [],
   "source": []
  }
 ],
 "metadata": {
  "kernelspec": {
   "display_name": "Python 2",
   "language": "python",
   "name": "python2"
  },
  "language_info": {
   "codemirror_mode": {
    "name": "ipython",
    "version": 2
   },
   "file_extension": ".py",
   "mimetype": "text/x-python",
   "name": "python",
   "nbconvert_exporter": "python",
   "pygments_lexer": "ipython2",
   "version": "2.7.13"
  },
  "toc": {
   "nav_menu": {},
   "number_sections": true,
   "sideBar": true,
   "skip_h1_title": false,
   "toc_cell": false,
   "toc_position": {},
   "toc_section_display": "block",
   "toc_window_display": false
  }
 },
 "nbformat": 4,
 "nbformat_minor": 2
}
